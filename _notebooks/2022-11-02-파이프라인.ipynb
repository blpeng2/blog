{
 "cells": [
  {
   "cell_type": "markdown",
   "metadata": {},
   "source": [
    "# 파이프라인\n",
    "> 파이프라인의 전반적인 내용을 다룹니다.\n",
    "\n",
    "- toc: true \n",
    "- badges: true\n",
    "- comments: true\n",
    "- categories: [컴퓨터그래픽스]"
   ]
  },
  {
   "cell_type": "markdown",
   "metadata": {},
   "source": [
    "## 1. 모델좌표"
   ]
  },
  {
   "cell_type": "markdown",
   "metadata": {},
   "source": [
    "## 2. 전역좌표\n",
    "\n",
    "모델 좌표 * 모델 행렬 (glTranslatef, glRotatef, glScalef)"
   ]
  },
  {
   "cell_type": "markdown",
   "metadata": {},
   "source": [
    "## 3. 시점좌표\n",
    "\n",
    "전역 좌표 * 뷰 행렬 (gluLookAt)"
   ]
  },
  {
   "cell_type": "markdown",
   "metadata": {},
   "source": [
    "## 4. 절단좌표\n",
    "\n",
    "시점 좌표 * 투상 행렬 (glOrtho, gluPerspective)\n",
    "\n",
    "### 4.1. glOrtho\n",
    "\n",
    "평행 투상을 위한 가시 부피 설정 함수\n",
    "\n",
    "### 4.2. 정규화 가시 부피\n",
    "\n",
    "가시 부피를 가로, 세로, 높이가 2인 정육면체로 변환한 것을 정규화 가시 부피라고 한다.\n",
    "\n",
    "`정규화 가시 부피로 변환하는 이유`는 3가지가 있다.\n",
    "\n",
    "1. 평행 투상, 원근 투상을 동일한 모습의 정규화 가시 부피로 변형함으로써 동일한 파이프라인을 사용하게 하기 위함이다.\n",
    "\n",
    "2. 정육면체를 기준으로 하면 절단 연산이 간단해진다.\n",
    "\n",
    "3. 다양한 해상도의 화면 좌표계로 변환하기가 간단해진다."
   ]
  },
  {
   "cell_type": "markdown",
   "metadata": {},
   "source": [
    "## 5. 정규화장치좌표\n",
    "\n",
    "절단 좌표가 원근 분할을 거쳐 정규화 장치 좌표가 된다.\n",
    "\n",
    "다른 말로 4차원 동차좌표가 3차원 공간좌표가 된다.\n",
    "\n",
    "### 5.1. 원근 분할\n",
    "원근 분할은 4차원 동차좌표를 3차원 공간좌표로 바꾸는 것을 말한다.\n",
    "\n",
    "4차원 동차좌표 관점에서 이 과정을 보았을때 이는 선형 변환이지만,\n",
    "\n",
    "3차원 관점에서 보게되면 이는 비선형 변환이다.\n",
    "\n",
    "### 5.2. 평행 투상\n",
    "평행 투상의 경우, 4번째 좌표, w = 1이기 때문에 원근분할이 되어있는 상태(3차원 상태)로 볼 수 있다.\n",
    "\n",
    "즉, 평행 투상의 경우에는 절단 좌표계 = 정규화 장치 좌표계이다."
   ]
  },
  {
   "cell_type": "markdown",
   "metadata": {},
   "source": [
    "## 6. 화면 좌표\n",
    "\n",
    "뷰 포트 변환 (glViewport)\n",
    "\n",
    "### 6.1. 재정규화\n",
    "정규화 가시 부피를 z = 0을 기준으로 [-1, 0] 범위에 있는 점들을 반사\n",
    "\n",
    "결과적으로, [0, 1]범위인 가시 부피가 만들어진다"
   ]
  },
  {
   "cell_type": "markdown",
   "metadata": {},
   "source": [
    "## 7. 투상 절차\n",
    "투상 파이프라인을 다음과 같이 3단계로 나눌 수 있다.\n",
    "\n",
    "### 7.1. 1단계 투상 - 절단 좌표계로 변환\n",
    "동차 좌표로 표시된다\n",
    "\n",
    "### 7.2. 2단계 투상 - 정규화 장치 좌표계로 변환\n",
    "동차 좌표를 3차원 공간 좌표로 바꾼다\n",
    "\n",
    "### 7.3. 3단계 투상 - 투상 변환: 3차원에서 2차원으로 사상\n",
    "정규화 가시 부피의 z = 0 평면이 화면 또는 뷰포트에 투상"
   ]
  }
 ],
 "metadata": {
  "kernelspec": {
   "display_name": "Python 3.10.6 64-bit",
   "language": "python",
   "name": "python3"
  },
  "language_info": {
   "name": "python",
   "version": "3.10.6"
  },
  "orig_nbformat": 4,
  "vscode": {
   "interpreter": {
    "hash": "b0fa6594d8f4cbf19f97940f81e996739fb7646882a419484c72d19e05852a7e"
   }
  }
 },
 "nbformat": 4,
 "nbformat_minor": 2
}
