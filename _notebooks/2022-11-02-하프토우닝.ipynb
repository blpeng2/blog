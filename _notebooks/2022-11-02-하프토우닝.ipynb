{
 "cells": [
  {
   "cell_type": "markdown",
   "metadata": {},
   "source": [
    "# 하프토우닝\n",
    "> 하프토우닝에 대해 설명합니다.\n",
    "\n",
    "- toc: true \n",
    "- badges: true\n",
    "- comments: true\n",
    "- categories: [컴퓨터그래픽스]"
   ]
  },
  {
   "cell_type": "markdown",
   "metadata": {},
   "source": [
    "하프토우닝은 흑백 모니터에서 사용할 수 있는 방법으로 예를 들어 2*2화소 단위로 하프 토우닝을 하면,\n",
    "\n",
    "해상도는 1 / 4이 된다. (가로 1 / 2, 세로 1 / 2)\n",
    "\n",
    "해상도가 1 / 4이 되는 이유는 화소 2*2를 한 화소로 보기 때문이다.\n",
    "\n",
    "흑백 모니터는 한 화소에 검은색과 흰색 둘 중 하나만 출력할 수 있다.\n",
    "\n",
    "2 * 2 하프 토우닝을 적용하게되면, 4개의 화소중 일부만 검은색을 출력함으로써 회색을 표현할 수 있다.\n",
    "\n",
    "4개의 화소를 하나로 보기 때문에, 단 하나도 검은색을 출력하지 않는 0개부터 모든 화소에 검은색을 출력하는 4개까지 총 5가지의 명도를 표현할 수 있다. 다른 말로 회색도가 5가지가 된다고 한다."
   ]
  }
 ],
 "metadata": {
  "kernelspec": {
   "display_name": "Python 3.10.6 64-bit",
   "language": "python",
   "name": "python3"
  },
  "language_info": {
   "name": "python",
   "version": "3.10.6"
  },
  "orig_nbformat": 4,
  "vscode": {
   "interpreter": {
    "hash": "b0fa6594d8f4cbf19f97940f81e996739fb7646882a419484c72d19e05852a7e"
   }
  }
 },
 "nbformat": 4,
 "nbformat_minor": 2
}
